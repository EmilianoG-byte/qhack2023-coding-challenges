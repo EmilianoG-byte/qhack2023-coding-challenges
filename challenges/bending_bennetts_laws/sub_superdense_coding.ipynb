{
 "cells": [
  {
   "cell_type": "code",
   "execution_count": null,
   "metadata": {},
   "outputs": [],
   "source": [
    "def encode(i, j, k):\n",
    "    \"\"\"\n",
    "    Quantum encoding function. It must act only on the first two qubits.\n",
    "    This function does not return anything, it simply applies gates.\n",
    "\n",
    "    Args:\n",
    "        i, j, k (int): The three encoding bits. They will take the values 1 or 0.\n",
    "\n",
    "    \"\"\"\n",
    "    # Put your code here #\n",
    "    if k==0:\n",
    "        if j==1:\n",
    "            qml.PauliX(wires=1)\n",
    "    else:\n",
    "        qml.PauliX(wires=0)\n",
    "        if j==0:\n",
    "            qml.PauliX(wires=1)\n",
    "    if i==1:\n",
    "        qml.PauliZ(wires=0)\n",
    "     "
   ]
  },
  {
   "cell_type": "code",
   "execution_count": null,
   "metadata": {},
   "outputs": [],
   "source": [
    "def decode():\n",
    "    \"\"\"\n",
    "    Quantum decoding function. It can act on the three qubits.\n",
    "    This function does not return anything, it simply applies gates.\n",
    "    \"\"\"\n",
    "    # Put your code here #\n",
    "    qml.CNOT(wires=[0,2])\n",
    "    qml.CNOT(wires=[0,1])\n",
    "    qml.Hadamard(wires=0)\n",
    "    "
   ]
  },
  {
   "cell_type": "code",
   "execution_count": null,
   "metadata": {},
   "outputs": [],
   "source": [
    "dev = qml.device(\"default.qubit\", wires=3)\n",
    "\n",
    "@qml.qnode(dev)\n",
    "def circuit(i, j, k):\n",
    "    \"\"\"\n",
    "    Circuit that generates the complete communication protocol.\n",
    "\n",
    "    Args:\n",
    "        i, j, k (int): The three encoding bits. They will take the value 1 or 0.\n",
    "    \"\"\"\n",
    "\n",
    "    # We prepare the state 1/sqrt(2)(|000> + |111>)\n",
    "    qml.Hadamard(wires=0)\n",
    "    qml.CNOT(wires=[0, 1])\n",
    "    qml.CNOT(wires=[0, 2])\n",
    "\n",
    "    # Zenda encodes the bits\n",
    "    encode(i, j, k)\n",
    "\n",
    "    # Reece decode the information\n",
    "    decode()\n",
    "\n",
    "    return qml.probs(wires=range(3))\n"
   ]
  },
  {
   "cell_type": "code",
   "execution_count": null,
   "metadata": {},
   "outputs": [],
   "source": [
    "# These functions are responsible for testing the solution.\n",
    "\n",
    "def run(test_case_input: str) -> str:\n",
    "\n",
    "    return None\n",
    "\n",
    "def check(solution_output: str, expected_output: str) -> None:\n",
    "\n",
    "    for i in range(2):\n",
    "        for j in range(2):\n",
    "            for k in range(2):\n",
    "                assert np.isclose(circuit(i, j , k)[4 * i + 2 * j + k],1)\n",
    "\n",
    "                dev = qml.device(\"default.qubit\", wires=3)\n",
    "\n",
    "                @qml.qnode(dev)\n",
    "                def circuit2(i, j, k):\n",
    "                    encode(i, j, k)\n",
    "                    return qml.probs(wires=range(3))\n",
    "\n",
    "                circuit2(i, j, k)\n",
    "                ops = circuit2.tape.operations\n",
    "\n",
    "                for op in ops:\n",
    "                    assert not (2 in op.wires), \"Invalid connection between qubits.\"\n"
   ]
  }
 ],
 "metadata": {
  "language_info": {
   "name": "python"
  },
  "orig_nbformat": 4
 },
 "nbformat": 4,
 "nbformat_minor": 2
}
