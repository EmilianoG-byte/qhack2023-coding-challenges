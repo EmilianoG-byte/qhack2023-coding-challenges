{
 "cells": [
  {
   "cell_type": "code",
   "execution_count": 2,
   "metadata": {},
   "outputs": [],
   "source": [
    "import json\n",
    "import pennylane as qml\n",
    "import pennylane.numpy as np"
   ]
  },
  {
   "cell_type": "code",
   "execution_count": 41,
   "metadata": {},
   "outputs": [
    {
     "name": "stdout",
     "output_type": "stream",
     "text": [
      "Running test case 0 with input '[[[ 0.70710678,  0.70710678], [ 0.70710678, -0.70710678]],[[1, 0], [0, -1]], 1, 3]'...\n",
      "Correct!\n"
     ]
    }
   ],
   "source": [
    "\n",
    "def W(alpha, beta):\n",
    "    \"\"\" This function returns the matrix W in terms of\n",
    "    the coefficients alpha and beta\n",
    "\n",
    "    Args:\n",
    "        - alpha (float): The prefactor alpha of U in the linear combination, as in the\n",
    "        challenge statement.\n",
    "        - beta (float): The prefactor beta of V in the linear combination, as in the\n",
    "        challenge statement.\n",
    "    Returns \n",
    "        -(numpy.ndarray): A 2x2 matrix representing the operator W,\n",
    "        as defined in the challenge statement\n",
    "    \"\"\"\n",
    "\n",
    "    return np.array([[np.sqrt(alpha), -np.sqrt(beta)],[np.sqrt(beta), np.sqrt(alpha)]])/(np.sqrt(alpha+beta))\n",
    "    # Put your code here #\n",
    "    # Return the real matrix of the unitary W, in terms of the coefficients.\n",
    "\n",
    "\n",
    "dev = qml.device('default.qubit', wires = 2)\n",
    "\n",
    "@qml.qnode(dev)\n",
    "def linear_combination(U, V,  alpha, beta):\n",
    "    \"\"\"This circuit implements the circuit that probabilistically calculates the linear combination \n",
    "    of the unitaries.\n",
    "\n",
    "    Args:\n",
    "        - U (list(list(float))): A 2x2 matrix representing the single-qubit unitary operator U.\n",
    "        - V (list(list(float))): A 2x2 matrix representing the single-qubit unitary operator U.\n",
    "        - alpha (float): The prefactor alpha of U in the linear combination, as above.\n",
    "        - beta (float): The prefactor beta of V in the linear combination, as above.\n",
    "\n",
    "    Returns:\n",
    "        -(numpy.tensor): Probabilities of measuring the computational\n",
    "        basis states on the auxiliary wire. \n",
    "    \"\"\"\n",
    "\n",
    "    qml.QubitUnitary(W(alpha, beta), wires=0)\n",
    "    #qml.PauliX(0)\n",
    "    qml.ctrl(qml.QubitUnitary(U, wires=1), control=0, control_values=0)\n",
    "    #qml.PauliX(0)\n",
    "    # Put your code here #\n",
    "    qml.ctrl(qml.QubitUnitary(V, wires=1), control=0)\n",
    "    qml.adjoint(qml.QubitUnitary(W(alpha, beta), wires=0))\n",
    "    # Return the probabilities on the first wire\n",
    "    return qml.probs([0])\n",
    "\n",
    "# These functions are responsible for testing the solution.\n",
    "\n",
    "def run(test_case_input: str) -> str:\n",
    "    dev = qml.device('default.qubit', wires = 2)\n",
    "    ins = json.loads(test_case_input)\n",
    "    output = linear_combination(*ins)[0].numpy()\n",
    "\n",
    "    return str(output)\n",
    "\n",
    "def check(solution_output: str, expected_output: str) -> None:\n",
    "    solution_output = json.loads(solution_output)\n",
    "    expected_output = json.loads(expected_output)\n",
    "    assert np.allclose(\n",
    "        solution_output, expected_output, rtol=1e-4\n",
    "    ), \"Your circuit doesn't look quite right \"\n",
    "\n",
    "\n",
    "test_cases = [['[[[ 0.70710678,  0.70710678], [ 0.70710678, -0.70710678]],[[1, 0], [0, -1]], 1, 3]', '0.8901650422902458']]\n",
    "\n",
    "for i, (input_, expected_output) in enumerate(test_cases):\n",
    "    print(f\"Running test case {i} with input '{input_}'...\")\n",
    "\n",
    "    try:\n",
    "        output = run(input_)\n",
    "\n",
    "    except Exception as exc:\n",
    "        print(f\"Runtime Error. {exc}\")\n",
    "\n",
    "    else:\n",
    "        if message := check(output, expected_output):\n",
    "            print(f\"Wrong Answer. Have: '{output}'. Want: '{expected_output}'.\")\n",
    "\n",
    "        else:\n",
    "            print(\"Correct!\")"
   ]
  },
  {
   "attachments": {},
   "cell_type": "markdown",
   "metadata": {},
   "source": [
    "------\n",
    "# <center> Tests"
   ]
  },
  {
   "cell_type": "code",
   "execution_count": 36,
   "metadata": {},
   "outputs": [],
   "source": [
    "def draw_circuit_nice(function, test_cases):\n",
    "    import matplotlib.pyplot as plt\n",
    "    #test_cases = [['[[0, 1], 0, 3]', '[-1.0,  1.0,  1.0,  1.0, -1.0, -1.0,  1.0,  1.0,  1.0]']]\n",
    "    #state, error_key, qubit = json.loads(test_cases[0][0])\n",
    "    qml.drawer.use_style(\"black_white\")\n",
    "    fig, ax = qml.draw_mpl(function)(*json.loads(test_cases[0][0]))\n",
    "    plt.show()\n",
    "\n",
    "test_cases = [['[[[ 0.70710678,  0.70710678], [ 0.70710678, -0.70710678]],[[1, 0], [0, -1]], 1, 3]', '0.8901650422902458']]\n"
   ]
  },
  {
   "cell_type": "code",
   "execution_count": 34,
   "metadata": {},
   "outputs": [
    {
     "data": {
      "image/png": "[encoded data removed]",
      "text/plain": [
       "<Figure size 700x300 with 1 Axes>"
      ]
     },
     "metadata": {},
     "output_type": "display_data"
    }
   ],
   "source": [
    "draw_circuit_nice(linear_combination, test_cases)"
   ]
  },
  {
   "cell_type": "code",
   "execution_count": 25,
   "metadata": {},
   "outputs": [
    {
     "data": {
      "text/plain": [
       "[[[0.70710678, 0.70710678], [0.70710678, -0.70710678]],\n",
       " [[1, 0], [0, -1]],\n",
       " 1,\n",
       " 3]"
      ]
     },
     "execution_count": 25,
     "metadata": {},
     "output_type": "execute_result"
    }
   ],
   "source": [
    "json.loads(test_cases[0][0])"
   ]
  },
  {
   "cell_type": "code",
   "execution_count": 39,
   "metadata": {},
   "outputs": [
    {
     "data": {
      "text/plain": [
       "tensor([[ 1., -0.],\n",
       "        [ 0.,  1.]], requires_grad=True)"
      ]
     },
     "execution_count": 39,
     "metadata": {},
     "output_type": "execute_result"
    }
   ],
   "source": [
    "W(1,0)"
   ]
  },
  {
   "cell_type": "code",
   "execution_count": 40,
   "metadata": {},
   "outputs": [
    {
     "data": {
      "text/plain": [
       "tensor([0.875, 0.125], requires_grad=True)"
      ]
     },
     "execution_count": 40,
     "metadata": {},
     "output_type": "execute_result"
    }
   ],
   "source": [
    "linear_combination(*json.loads(test_cases[0][0]))"
   ]
  },
  {
   "cell_type": "code",
   "execution_count": null,
   "metadata": {},
   "outputs": [],
   "source": []
  }
 ],
 "metadata": {
  "kernelspec": {
   "display_name": "Python 3",
   "language": "python",
   "name": "python3"
  },
  "language_info": {
   "codemirror_mode": {
    "name": "ipython",
    "version": 3
   },
   "file_extension": ".py",
   "mimetype": "text/x-python",
   "name": "python",
   "nbconvert_exporter": "python",
   "pygments_lexer": "ipython3",
   "version": "3.10.8"
  },
  "orig_nbformat": 4,
  "vscode": {
   "interpreter": {
    "hash": "b0fa6594d8f4cbf19f97940f81e996739fb7646882a419484c72d19e05852a7e"
   }
  }
 },
 "nbformat": 4,
 "nbformat_minor": 2
}
