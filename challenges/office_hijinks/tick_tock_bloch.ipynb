{
 "cells": [
  {
   "cell_type": "code",
   "execution_count": null,
   "metadata": {},
   "outputs": [],
   "source": [
    "dev = qml.device(\"default.qubit\", wires=[\"hour\", \"minute\"])\n"
   ]
  },
  {
   "cell_type": "code",
   "execution_count": null,
   "metadata": {},
   "outputs": [],
   "source": [
    "@qml.qnode(dev)\n",
    "def time(hour, minute):\n",
    "    \"\"\"Generates the quantum state associated with the time passed as argument.\n",
    "\n",
    "    Args:\n",
    "        hour (int): Hour associated with the requested time\n",
    "        minute (int): Minutes associated with the requested time\n",
    "\n",
    "    Returns:\n",
    "        (numpy.tensor): Probabilities associated with the state created.\n",
    "    \"\"\"\n",
    "    # Put your code here #\n",
    "    qml.RY(-(hour+minute/60)/12*2*np.pi,wires=\"hour\")\n",
    "    qml.RY(-minute/60*2*np.pi,wires=\"minute\")\n",
    "    \n",
    "    return qml.probs(wires=[\"hour\", \"minute\"])\n"
   ]
  },
  {
   "cell_type": "code",
   "execution_count": null,
   "metadata": {},
   "outputs": [],
   "source": [
    "# These functions are responsible for testing the solution.\n",
    "def run(test_case_input: str) -> str:\n",
    "    hour, minute = json.loads(test_case_input)\n",
    "    state = [float(x) for x in time(hour, minute)]\n",
    "    return str(state)\n",
    "\n",
    "def check(solution_output, expected_output: str) -> None:\n",
    "\n",
    "    solution_output = json.loads(solution_output)\n",
    "    expected_output = json.loads(expected_output)\n",
    "\n",
    "    assert np.allclose(\n",
    "        solution_output, expected_output, atol=0.1\n",
    "    ), \"The solution does not seem to be correct.\"\n"
   ]
  }
 ],
 "metadata": {
  "language_info": {
   "name": "python"
  },
  "orig_nbformat": 4
 },
 "nbformat": 4,
 "nbformat_minor": 2
}
