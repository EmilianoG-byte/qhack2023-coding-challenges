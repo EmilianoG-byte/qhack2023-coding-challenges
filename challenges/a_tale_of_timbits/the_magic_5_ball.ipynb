{
 "cells": [
  {
   "cell_type": "code",
   "execution_count": null,
   "metadata": {},
   "outputs": [],
   "source": [
    "def noisy_Hadamard(lmbda, wire):\n",
    "    \"\"\"A Hadamard gate with depolarizing noise on either side.\n",
    "    \n",
    "    Args:\n",
    "        lmbda (float): The parameter defining the depolarizing channel.\n",
    "        wire (int): The wire the depolarizing channel acts on.\n",
    "    \"\"\"\n",
    "    qml.DepolarizingChannel(lmbda, wires=wire)\n",
    "    qml.Hadamard(wire)\n",
    "    qml.DepolarizingChannel(lmbda, wires=wire)\n",
    "\n",
    "# Oracle matrix for Doc Trine's cell number\n",
    "\n",
    "flips = [1, 3, 5, 7, 8, 10, 12, 14, 16, 18, 20, 22, 25, 27, 29, 31]\n",
    "\n",
    "oracle_matrix = np.eye(2**5)\n",
    "for i in flips:\n",
    "    oracle_matrix[i, i] = -1\n",
    "\n",
    "# Implement the Bernstein-Vazirani algorithm with depolarizing noise\n",
    "\n",
    "dev = qml.device(\"default.mixed\", wires = 5)\n",
    "@qml.qnode(dev)\n",
    "def noisy_BernsteinVazirani(lmbda):\n",
    "    \"\"\"Runs the Bernstein-Vazirani algorithm with depolarizing noise.\n",
    "\n",
    "    Args:\n",
    "        lmbda (float): The probability of erasing the state of a qubit.\n",
    "\n",
    "    Returns:\n",
    "        (list(float)): Expectation values for PauliZ on all n wires.\n",
    "    \"\"\"\n",
    "    # Put your code here #\n",
    "    for i in range(5):\n",
    "        noisy_Hadamard(lmbda, i)\n",
    "\n",
    "    qml.QubitUnitary(oracle_matrix, wires=[0,1,2,3,4])\n",
    "\n",
    "    for i in range(5):\n",
    "        noisy_Hadamard(lmbda, i)\n",
    "        \n",
    "    return [qml.expval(qml.PauliZ(i)) for i in range(5)]"
   ]
  },
  {
   "cell_type": "code",
   "execution_count": null,
   "metadata": {},
   "outputs": [],
   "source": [
    "# These functions are responsible for testing the solution.\n",
    "def run(test_case_input: str) -> str:\n",
    "\n",
    "    lmbda = json.loads(test_case_input)\n",
    "    output = noisy_BernsteinVazirani(lmbda).tolist()\n",
    "\n",
    "    return str(output)\n",
    "\n",
    "def check(solution_output: str, expected_output: str) -> None:\n",
    "    \n",
    "    solution_output = json.loads(solution_output)\n",
    "    expected_output = json.loads(expected_output)\n",
    "    assert np.allclose(\n",
    "        solution_output, expected_output, rtol=1e-4\n",
    "    ), \"Your noisy Bernstein-Vazirani algorithm isn't giving the right answers!\"\n"
   ]
  }
 ],
 "metadata": {
  "language_info": {
   "name": "python"
  },
  "orig_nbformat": 4
 },
 "nbformat": 4,
 "nbformat_minor": 2
}
