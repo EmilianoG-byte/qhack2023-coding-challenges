{
 "cells": [
  {
   "cell_type": "code",
   "execution_count": null,
   "metadata": {},
   "outputs": [],
   "source": [
    "dev = qml.device(\"default.qubit\", wires=3)\n",
    "\n",
    "@qml.qnode(dev)\n",
    "def AND(j, k):\n",
    "    \"\"\"Implements the AND gate using quantum gates and computes j AND k.\n",
    "\n",
    "    Args:\n",
    "        j (int): A classical bit, either 0 or 1. \n",
    "        k (int): A classical bit, either 0 or 1. \n",
    "\n",
    "    Returns:\n",
    "        float: The probabilities of measurement on wire 0.\n",
    "    \"\"\"\n",
    "\n",
    "    if j == 1:\n",
    "        qml.PauliX(wires=1)\n",
    "    if k == 1:\n",
    "        qml.PauliX(wires=2)\n",
    "        \n",
    "    # Put your code here #\n",
    "    qml.Hadamard(wires=0)\n",
    "\n",
    "    qml.ctrl(qml.PauliZ, control =[0, 1])(wires = [2])\n",
    "        \n",
    "    # Your code here #\n",
    "    qml.Hadamard(wires=0)\n",
    "\n",
    "    return qml.probs(wires=0)\n"
   ]
  },
  {
   "cell_type": "code",
   "execution_count": null,
   "metadata": {},
   "outputs": [],
   "source": [
    "# These functions are responsible for testing the solution.\n",
    "def run(test_case_input: str) -> str:\n",
    "    j, k = json.loads(test_case_input)\n",
    "    output = AND(j, k).tolist()\n",
    "\n",
    "    return str(output)\n",
    "\n",
    "def check(solution_output: str, expected_output: str) -> None:\n",
    "    solution_output = json.loads(solution_output)\n",
    "    expected_output = json.loads(expected_output)\n",
    "    assert np.allclose(solution_output, expected_output, rtol=1e-4), \"Your classical operation isn't behaving correctly!\"\n"
   ]
  }
 ],
 "metadata": {
  "language_info": {
   "name": "python"
  },
  "orig_nbformat": 4
 },
 "nbformat": 4,
 "nbformat_minor": 2
}
