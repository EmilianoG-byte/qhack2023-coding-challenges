{
 "cells": [
  {
   "cell_type": "code",
   "execution_count": 1,
   "metadata": {},
   "outputs": [],
   "source": [
    "import json\n",
    "import pennylane as qml\n",
    "import pennylane.numpy as np\n",
    "import scipy"
   ]
  },
  {
   "cell_type": "code",
   "execution_count": 87,
   "metadata": {},
   "outputs": [
    {
     "name": "stdout",
     "output_type": "stream",
     "text": [
      "Running test case 0 with input '[\"XXI\", 0.7]'...\n",
      "Correct!\n",
      "Running test case 1 with input '[\"XXIZ\", 0.1]'...\n",
      "Correct!\n",
      "Running test case 2 with input '[\"YIZ\", 0.3]'...\n",
      "Correct!\n",
      "Running test case 3 with input '[\"ZZZZZZZXXX\", 0.1]'...\n",
      "Correct!\n"
     ]
    }
   ],
   "source": [
    "def abs_dist(rho, sigma):\n",
    "    \"\"\"A function to compute the absolute value |rho - sigma|.\"\"\"\n",
    "    polar = scipy.linalg.polar(rho - sigma)\n",
    "    return polar[1]\n",
    "\n",
    "def word_dist(word):\n",
    "    \"\"\"A function which counts the non-identity operators in a Pauli word\"\"\"\n",
    "    return sum(word[i] != \"I\" for i in range(len(word)))\n",
    "\n",
    "\n",
    "# Produce the Pauli density for a given Pauli word and apply noise\n",
    "\n",
    "def noisy_Pauli_density(word, lmbda):\n",
    "    \"\"\"\n",
    "       A subcircuit which prepares a density matrix (I + P)/2**n for a given Pauli\n",
    "       word P, and applies depolarizing noise to each qubit. Nothing is returned.\n",
    "\n",
    "    Args:\n",
    "            word (str): A Pauli word represented as a string with characters I,  X, Y and Z.\n",
    "            lmbda (float): The probability of replacing a qubit with something random.\n",
    "    \"\"\"\n",
    "\n",
    "\n",
    "    # Put your code here #\n",
    "    n = len(word)\n",
    "    #print(n)\n",
    "    P = qml.pauli.string_to_pauli_word(word)\n",
    "    #print(P)\n",
    "    I = qml.Identity([0])\n",
    "    for i in range(1,n):\n",
    "        I = I @ qml.Identity([i])\n",
    "    rho_p = (P + I)*(0.5)**n\n",
    "    rho_p_matrix = qml.matrix(rho_p, wire_order=range(n))\n",
    "\n",
    "    qml.QubitDensityMatrix(rho_p_matrix, wires=range(n))\n",
    "    for i in range(n):\n",
    "        qml.DepolarizingChannel(lmbda, i)\n",
    "\n",
    "\n",
    "# Compute the trace distance from a noisy Pauli density to the maximally mixed density\n",
    "\n",
    "def maxmix_trace_dist(word, lmbda):\n",
    "    \"\"\"\n",
    "       A function compute the trace distance between a noisy density matrix, specified\n",
    "       by a Pauli word, and the maximally mixed matrix.\n",
    "\n",
    "    Args:\n",
    "            word (str): A Pauli word represented as a string with characters I, X, Y and Z.\n",
    "            lmbda (float): The probability of replacing a qubit with something random.\n",
    "\n",
    "    Returns:\n",
    "            float: The trace distance between two matrices encoding Pauli words.\n",
    "    \"\"\"\n",
    "    n = len(word)\n",
    "    dev = qml.device('default.mixed', wires=n)\n",
    "    @qml.qnode(dev)\n",
    "    def circuit():\n",
    "    # Put your code here #\n",
    "        noisy_Pauli_density(word, lmbda)\n",
    "        return qml.density_matrix(wires=range(n))\n",
    "    \n",
    "    rho_p_matrix = circuit()\n",
    "    \n",
    "    I = qml.Identity([0])\n",
    "    for i in range(1,n):\n",
    "        I = I @ qml.Identity([i])\n",
    "\n",
    "    rho_0 = (I)*(0.5)**n\n",
    "    rho_0_matrix = qml.matrix(rho_0, wire_order=range(n))\n",
    "    distance = abs_dist(rho_p_matrix, rho_0_matrix)\n",
    "\n",
    "    return 0.5*np.trace(distance)\n",
    "\n",
    "def bound_verifier(word, lmbda):\n",
    "    \"\"\"\n",
    "       A simple check function which verifies the trace distance from a noisy Pauli density\n",
    "       to the maximally mixed matrix is bounded by (1 - lambda)^|P|.\n",
    "\n",
    "    Args:\n",
    "            word (str): A Pauli word represented as a string with characters I, X, Y and Z.\n",
    "            lmbda (float): The probability of replacing a qubit with something random.\n",
    "\n",
    "    Returns:\n",
    "            float: The difference between (1 - lambda)^|P| and T(rho_P(lambda), rho_0).\n",
    "    \"\"\"\n",
    "\n",
    "\n",
    "    # Put your code here #\n",
    "\n",
    "\n",
    "\n",
    "    return (1-lmbda)**(word_dist(word)) - maxmix_trace_dist(word, lmbda)\n",
    "\n",
    "\n",
    "# These functions are responsible for testing the solution.\n",
    "def run(test_case_input: str) -> str:\n",
    "\n",
    "    word, lmbda = json.loads(test_case_input)\n",
    "    output = np.real(bound_verifier(word, lmbda))\n",
    "\n",
    "    return str(output)\n",
    "\n",
    "\n",
    "def check(solution_output: str, expected_output: str) -> None:\n",
    "\n",
    "    solution_output = json.loads(solution_output)\n",
    "    expected_output = json.loads(expected_output)\n",
    "    assert np.allclose(\n",
    "        solution_output, expected_output, rtol=1e-4\n",
    "    ), \"Your trace distance isn't quite right!\"\n",
    "\n",
    "\n",
    "test_cases = [['[\"XXI\", 0.7]', '0.0877777777777777'], ['[\"XXIZ\", 0.1]', '0.4035185185185055'], ['[\"YIZ\", 0.3]', '0.30999999999999284'], ['[\"ZZZZZZZXXX\", 0.1]', '0.22914458207245006']]\n",
    "\n",
    "for i, (input_, expected_output) in enumerate(test_cases):\n",
    "    print(f\"Running test case {i} with input '{input_}'...\")\n",
    "\n",
    "    try:\n",
    "        output = run(input_)\n",
    "\n",
    "    except Exception as exc:\n",
    "        print(f\"Runtime Error. {exc}\")\n",
    "\n",
    "    else:\n",
    "        if message := check(output, expected_output):\n",
    "            print(f\"Wrong Answer. Have: '{output}'. Want: '{expected_output}'.\")\n",
    "\n",
    "        else:\n",
    "            print(\"Correct!\")"
   ]
  },
  {
   "attachments": {},
   "cell_type": "markdown",
   "metadata": {},
   "source": [
    "------\n",
    "# <center> Tests"
   ]
  },
  {
   "cell_type": "code",
   "execution_count": 41,
   "metadata": {},
   "outputs": [],
   "source": [
    "def noisy_Pauli_density(word, lmbda):\n",
    "    \"\"\"\n",
    "       A subcircuit which prepares a density matrix (I + P)/2**n for a given Pauli\n",
    "       word P, and applies depolarizing noise to each qubit. Nothing is returned.\n",
    "\n",
    "    Args:\n",
    "            word (str): A Pauli word represented as a string with characters I,  X, Y and Z.\n",
    "            lmbda (float): The probability of replacing a qubit with something random.\n",
    "    \"\"\"\n",
    "\n",
    "\n",
    "    # Put your code here #\n",
    "    n = len(word)\n",
    "    #print(n)\n",
    "    P = qml.pauli.string_to_pauli_word(word)\n",
    "    #print(P)\n",
    "    I = qml.Identity([0])\n",
    "    for i in range(1,n):\n",
    "        I = I @ qml.Identity([i])\n",
    "    rho_p = (P + I)*(0.5)**n\n",
    "    \n",
    "    for i in range(n):\n",
    "        qml.DepolarizingChannel(lmbda, i)"
   ]
  },
  {
   "cell_type": "code",
   "execution_count": 71,
   "metadata": {},
   "outputs": [
    {
     "name": "stdout",
     "output_type": "stream",
     "text": [
      "  (0.125) [I0]\n",
      "+ (0.125) [X0 X1]\n"
     ]
    }
   ],
   "source": [
    "word = \"XXI\"\n",
    "n = len(word)\n",
    "P = qml.pauli.string_to_pauli_word(word)\n",
    "I = qml.Identity([0])\n",
    "for i in range(1,n):\n",
    "    I = I @ qml.Identity([i])\n",
    "rho_p = (P + I)*(0.5)**n\n",
    "#qml.ops.op_math.Sum(I, P)\n",
    "#qml.ops.op_math.SProd(0.5**n, I)\n",
    "rho_p"
   ]
  },
  {
   "cell_type": "code",
   "execution_count": 85,
   "metadata": {},
   "outputs": [
    {
     "data": {
      "text/plain": [
       "array([[0.+0.j, 0.+0.j, 0.+0.j, 0.+0.j, 0.+0.j, 0.+0.j, 0.+0.j, 0.+0.j],\n",
       "       [0.+0.j, 0.+0.j, 0.+0.j, 0.+0.j, 0.+0.j, 0.+0.j, 0.+0.j, 0.+0.j],\n",
       "       [0.+0.j, 0.+0.j, 0.+0.j, 0.+0.j, 0.+0.j, 0.+0.j, 0.+0.j, 0.+0.j],\n",
       "       [0.+0.j, 0.+0.j, 0.+0.j, 0.+0.j, 0.+0.j, 0.+0.j, 0.+0.j, 0.+0.j],\n",
       "       [0.+0.j, 0.+0.j, 0.+0.j, 0.+0.j, 0.+0.j, 0.+0.j, 0.+0.j, 0.+0.j],\n",
       "       [0.+0.j, 0.+0.j, 0.+0.j, 0.+0.j, 0.+0.j, 0.+0.j, 0.+0.j, 0.+0.j],\n",
       "       [0.+0.j, 0.+0.j, 0.+0.j, 0.+0.j, 0.+0.j, 0.+0.j, 0.+0.j, 0.+0.j],\n",
       "       [0.+0.j, 0.+0.j, 0.+0.j, 0.+0.j, 0.+0.j, 0.+0.j, 0.+0.j, 0.+0.j]])"
      ]
     },
     "execution_count": 85,
     "metadata": {},
     "output_type": "execute_result"
    }
   ],
   "source": [
    "qml.matrix(P,wire_order=range(n)) - qml.matrix(qml.PauliX(0)@qml.PauliX(1)@qml.Identity(2))"
   ]
  },
  {
   "cell_type": "code",
   "execution_count": 81,
   "metadata": {},
   "outputs": [
    {
     "data": {
      "text/plain": [
       "array([[1.+0.j, 0.+0.j, 0.+0.j, 0.+0.j, 0.+0.j, 0.+0.j, 1.+0.j, 0.+0.j],\n",
       "       [0.+0.j, 1.+0.j, 0.+0.j, 0.+0.j, 0.+0.j, 0.+0.j, 0.+0.j, 1.+0.j],\n",
       "       [0.+0.j, 0.+0.j, 1.+0.j, 0.+0.j, 1.+0.j, 0.+0.j, 0.+0.j, 0.+0.j],\n",
       "       [0.+0.j, 0.+0.j, 0.+0.j, 1.+0.j, 0.+0.j, 1.+0.j, 0.+0.j, 0.+0.j],\n",
       "       [0.+0.j, 0.+0.j, 1.+0.j, 0.+0.j, 1.+0.j, 0.+0.j, 0.+0.j, 0.+0.j],\n",
       "       [0.+0.j, 0.+0.j, 0.+0.j, 1.+0.j, 0.+0.j, 1.+0.j, 0.+0.j, 0.+0.j],\n",
       "       [1.+0.j, 0.+0.j, 0.+0.j, 0.+0.j, 0.+0.j, 0.+0.j, 1.+0.j, 0.+0.j],\n",
       "       [0.+0.j, 1.+0.j, 0.+0.j, 0.+0.j, 0.+0.j, 0.+0.j, 0.+0.j, 1.+0.j]])"
      ]
     },
     "execution_count": 81,
     "metadata": {},
     "output_type": "execute_result"
    }
   ],
   "source": [
    "qml.matrix(I+P, wire_order=range(n))"
   ]
  },
  {
   "cell_type": "code",
   "execution_count": 80,
   "metadata": {},
   "outputs": [
    {
     "data": {
      "text/plain": [
       "(8, 8)"
      ]
     },
     "execution_count": 80,
     "metadata": {},
     "output_type": "execute_result"
    }
   ],
   "source": [
    "rho_p_matrix = qml.matrix(rho_p, wire_order=range(n))\n",
    "rho_p_matrix.shape"
   ]
  },
  {
   "cell_type": "code",
   "execution_count": 86,
   "metadata": {},
   "outputs": [
    {
     "data": {
      "text/plain": [
       "array([[0.125     +0.j, 0.        +0.j, 0.        +0.j, 0.        +0.j,\n",
       "        0.        +0.j, 0.        +0.j, 0.01388889+0.j, 0.        +0.j],\n",
       "       [0.        +0.j, 0.125     +0.j, 0.        +0.j, 0.        +0.j,\n",
       "        0.        +0.j, 0.        +0.j, 0.        +0.j, 0.01388889+0.j],\n",
       "       [0.        +0.j, 0.        +0.j, 0.125     +0.j, 0.        +0.j,\n",
       "        0.01388889+0.j, 0.        +0.j, 0.        +0.j, 0.        +0.j],\n",
       "       [0.        +0.j, 0.        +0.j, 0.        +0.j, 0.125     +0.j,\n",
       "        0.        +0.j, 0.01388889+0.j, 0.        +0.j, 0.        +0.j],\n",
       "       [0.        +0.j, 0.        +0.j, 0.01388889+0.j, 0.        +0.j,\n",
       "        0.125     +0.j, 0.        +0.j, 0.        +0.j, 0.        +0.j],\n",
       "       [0.        +0.j, 0.        +0.j, 0.        +0.j, 0.01388889+0.j,\n",
       "        0.        +0.j, 0.125     +0.j, 0.        +0.j, 0.        +0.j],\n",
       "       [0.01388889+0.j, 0.        +0.j, 0.        +0.j, 0.        +0.j,\n",
       "        0.        +0.j, 0.        +0.j, 0.125     +0.j, 0.        +0.j],\n",
       "       [0.        +0.j, 0.01388889+0.j, 0.        +0.j, 0.        +0.j,\n",
       "        0.        +0.j, 0.        +0.j, 0.        +0.j, 0.125     +0.j]])"
      ]
     },
     "execution_count": 86,
     "metadata": {},
     "output_type": "execute_result"
    }
   ],
   "source": [
    "dev = qml.device('default.mixed', wires=n)\n",
    "p = 1\n",
    "@qml.qnode(dev)\n",
    "def circuit():\n",
    "    qml.QubitDensityMatrix(rho_p_matrix, wires=range(n))\n",
    "    for i in range(n):\n",
    "        qml.DepolarizingChannel(p, wires=i)\n",
    "    return qml.density_matrix(wires=range(n))\n",
    "\n",
    "circuit()"
   ]
  },
  {
   "attachments": {},
   "cell_type": "markdown",
   "metadata": {},
   "source": [
    "# Resources:"
   ]
  },
  {
   "attachments": {},
   "cell_type": "markdown",
   "metadata": {},
   "source": [
    "https://discuss.pennylane.ai/t/using-mixed-states-as-input/2092\n",
    "https://docs.pennylane.ai/en/stable/code/api/pennylane.matrix.html\n",
    "https://docs.pennylane.ai/en/stable/code/api/pennylane.pauli.string_to_pauli_word.html\n",
    "https://docs.pennylane.ai/en/stable/code/api/pennylane.density_matrix.html\n",
    "https://docs.pennylane.ai/en/stable/code/api/pennylane.QubitDensityMatrix.html\n",
    "\n"
   ]
  }
 ],
 "metadata": {
  "kernelspec": {
   "display_name": "app_qc",
   "language": "python",
   "name": "python3"
  },
  "language_info": {
   "codemirror_mode": {
    "name": "ipython",
    "version": 3
   },
   "file_extension": ".py",
   "mimetype": "text/x-python",
   "name": "python",
   "nbconvert_exporter": "python",
   "pygments_lexer": "ipython3",
   "version": "3.10.4"
  },
  "orig_nbformat": 4,
  "vscode": {
   "interpreter": {
    "hash": "0e3523843f37ca99d0dcc63a69cb3738d5ce61a12c8d9fe46bc172358b7503f4"
   }
  }
 },
 "nbformat": 4,
 "nbformat_minor": 2
}
