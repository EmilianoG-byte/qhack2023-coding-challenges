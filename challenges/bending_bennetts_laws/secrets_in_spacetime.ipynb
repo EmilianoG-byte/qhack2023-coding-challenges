{
 "cells": [
  {
   "cell_type": "code",
   "execution_count": 1,
   "metadata": {},
   "outputs": [],
   "source": [
    "import json\n",
    "import pennylane as qml\n",
    "import pennylane.numpy as np"
   ]
  },
  {
   "cell_type": "code",
   "execution_count": 3,
   "metadata": {},
   "outputs": [
    {
     "name": "stdout",
     "output_type": "stream",
     "text": [
      "Running test case 0 with input '[0.1, 0.2, 0.3]'...\n",
      "Correct!\n",
      "Running test case 1 with input '[1.1, 1.2, 0.3]'...\n",
      "Correct!\n",
      "Running test case 2 with input '[1.1, 1.2, 0.4]'...\n",
      "Correct!\n",
      "Running test case 3 with input '[0.5, 1.9, 0.7]'...\n",
      "Correct!\n"
     ]
    }
   ],
   "source": [
    "def U_psi(theta):\n",
    "    \"\"\"\n",
    "    Quantum function that generates |psi>, Zenda's state wants to send to Reece.\n",
    "\n",
    "    Args:\n",
    "        theta (float): Parameter that generates the state.\n",
    "\n",
    "    \"\"\"\n",
    "    qml.Hadamard(wires = 0)\n",
    "    qml.CRX(theta, wires = [0,1])\n",
    "    qml.CRZ(theta, wires = [0,1])\n",
    "\n",
    "def is_unsafe(alpha, beta, epsilon):\n",
    "    \"\"\"\n",
    "    Boolean function that we will use to know if a set of parameters is unsafe.\n",
    "\n",
    "    Args:\n",
    "        alpha (float): parameter used to encode the state.\n",
    "        beta (float): parameter used to encode the state.\n",
    "        epsilon (float): unsafe-tolerance.\n",
    "\n",
    "    Returns:\n",
    "        (bool): 'True' if alpha and beta are epsilon-unsafe coefficients. 'False' in the other case.\n",
    "\n",
    "    \"\"\"\n",
    "\n",
    "    from numpy import cos, sin, exp\n",
    "\n",
    "    # NOTE: I found this expression analytically by calculating the inner product between |psi(theta)> and  U(alpha)U(beta)|psi(theta)>\n",
    "    def f(theta, alpha, beta):\n",
    "            # here is where I can put the function I have. Either keep as it is or convert using \n",
    "            # cos theta/2 = x,  sin theta/2 = np.sqrt(1-x**2)\n",
    "            # e^(i\\theta/2) = cos(theta/2) + i sin(theta/2) =  x + 1j*np.sqrt(1-x**2)\n",
    "            # e^(-i\\theta/2) = cos(theta/2) - i sin(theta/2) =  x - 1j*np.sqrt(1-x**2)\n",
    "            r = np.exp(-1j*alpha)*np.cos(beta/2)**2 - (1j*np.cos(theta/2)*np.exp(-1j*theta/2)*np.sin(beta)*0.5) + 1j*np.sin(theta/2)*np.sin(beta/2)**2*np.exp(1j*theta/2)*np.exp(1j*alpha) \\\n",
    "                + np.cos(theta/2)*np.exp(1j*theta/2)*(np.cos(theta/2)*np.cos(beta/2)**2*np.exp(-1j*theta/2)-(1j*np.exp(-1j*alpha)*np.sin(beta)*0.5) - (0.5*np.sin(theta/2)*np.sin(beta)*np.exp(1j*theta/2)*np.exp(1j*alpha)))\\\n",
    "                - 1j*np.sin(theta/2)*np.exp(-1j*theta/2)*np.exp(-1j*alpha)*(np.sin(beta/2)**2*np.exp(-1j*alpha) + (0.5j*np.cos(theta/2)*np.sin(beta)*np.exp(-1j*theta/2)) + 1j*np.sin(theta/2)*np.cos(beta/2)**2*np.exp(1j*theta/2)*np.exp(1j*alpha))\n",
    "            return abs(r/2)**2\n",
    "\n",
    "    def cost(theta, alpha, beta, epsilon):\n",
    "        return 1 - epsilon - f(theta, alpha, beta)\n",
    "   \n",
    "    def minimize(cost, x0, alpha, beta, epsilon, conv_tol=1e-08, step_size=0.2, max_iterations=500, progress=False):\n",
    "        # NOTE: had to create own optimizitation since importing was not allowed. else could have used scipy.minimize\n",
    "        opt = qml.AdamOptimizer(stepsize=step_size)\n",
    "        #opt = qml.GradientDescentOptimizer(stepsize=step_size)\n",
    "        #opt = qml.QNGOptimizer(stepsize=step_size, approx=\"block-diag\")\n",
    "        theta = np.array(x0, requires_grad=True)\n",
    "        # store the values of the cost function\n",
    "        energy = [cost(theta, alpha, beta, epsilon)]\n",
    "        # store the values of the circuit parameter\n",
    "        params = [theta]\n",
    "\n",
    "        for n in range(max_iterations):\n",
    "            theta, prev_energy = opt.step_and_cost(cost, theta, alpha=alpha, beta=beta, epsilon=epsilon) #define the other kwargs at the end\n",
    "            energy.append(cost(theta, alpha, beta, epsilon))\n",
    "            params.append(theta)\n",
    "\n",
    "            conv = np.abs(energy[-1] - prev_energy)\n",
    "            if progress:\n",
    "                print(f\"Step = {n},  Energy = {energy[-1]:.8f} Ha\")\n",
    "            if conv <= conv_tol:\n",
    "                break\n",
    "        status = f'finished in {n} iterations' \n",
    "        \n",
    "        return params[-1], energy[-1], status\n",
    "\n",
    "    #from scipy.optimize import minimize: NOT ALLOWED\n",
    "    x0 = np.pi # initial guess\n",
    "    \n",
    "    #res = minimize(cost, x0, args=(alpha,beta,epsilon), method='Nelder-Mead', tol=1e-6)\n",
    "    x, val, status = minimize(cost, x0, alpha, beta, epsilon)\n",
    "    #this checks that solution and far enough from zero (0.02) since otherwise it can be negative due to numerical noise\n",
    "    if val <= 0 and abs(val)>0.02:\n",
    "        return True\n",
    "    else:\n",
    "        return False\n",
    "\n",
    "    # Put your code here #\n",
    "    \n",
    "\n",
    "# These functions are responsible for testing the solution.\n",
    "def run(test_case_input: str) -> str:\n",
    "    ins = json.loads(test_case_input)\n",
    "    output = is_unsafe(*ins)\n",
    "    return str(output)\n",
    "\n",
    "def check(solution_output: str, expected_output: str) -> None:\n",
    "    \n",
    "    def bool_to_int(string):\n",
    "        if string == \"True\":\n",
    "            return 1\n",
    "        return 0\n",
    "\n",
    "    solution_output = bool_to_int(solution_output)\n",
    "    expected_output = bool_to_int(expected_output)\n",
    "    assert solution_output == expected_output, \"The solution is not correct.\"\n",
    "\n",
    "\n",
    "test_cases = [['[0.1, 0.2, 0.3]', 'True'], ['[1.1, 1.2, 0.3]', 'False'], ['[1.1, 1.2, 0.4]', 'True'], ['[0.5, 1.9, 0.7]', 'True']]\n",
    "\n",
    "for i, (input_, expected_output) in enumerate(test_cases):\n",
    "    print(f\"Running test case {i} with input '{input_}'...\")\n",
    "\n",
    "    try:\n",
    "        output = run(input_)\n",
    "\n",
    "    except Exception as exc:\n",
    "        print(f\"Runtime Error. {exc}\")\n",
    "\n",
    "    else:\n",
    "        if message := check(output, expected_output):\n",
    "            print(f\"Wrong Answer. Have: '{output}'. Want: '{expected_output}'.\")\n",
    "\n",
    "        else:\n",
    "            print(\"Correct!\")"
   ]
  },
  {
   "attachments": {},
   "cell_type": "markdown",
   "metadata": {},
   "source": [
    "# Idea:\n",
    "to find if a solution $\\theta$ exists such that \n",
    "\n",
    "$$f(\\theta, \\alpha, \\beta) \\geq 1-\\epsilon$$\n",
    "\n",
    "we can look at \n",
    "$$1 - \\epsilon - f(\\theta, \\alpha, \\beta) \\leq 0$$\n",
    "\n",
    "if this inequality is satisfied, it means that the initial inequality was satisfied i.e. $\\alpha$ and $\\beta$ are $\\epsilon$-unsafe\n",
    "\n",
    "Then, we minimize the left hand side wrt $\\theta$ and the min is negative (within tolerance) we return `True`, else `False`"
   ]
  },
  {
   "attachments": {},
   "cell_type": "markdown",
   "metadata": {},
   "source": [
    "-----\n",
    "# <center> Tests"
   ]
  },
  {
   "cell_type": "code",
   "execution_count": 79,
   "metadata": {},
   "outputs": [],
   "source": [
    "\n",
    "def f(theta, alpha, beta):\n",
    "        # here is where I can put the function I have. Either keep as it is or convert using \n",
    "        # cos theta/2 = x,  sin theta/2 = np.sqrt(1-x**2)\n",
    "        # e^(i\\theta/2) = np.cos(theta/2) + i np.sin(theta/2) =  x + 1j*np.sqrt(1-x**2)\n",
    "        # e^(-i\\theta/2) = np.cos(theta/2) - i np.sin(theta/2) =  x - 1j*np.sqrt(1-x**2)\n",
    "        r = np.exp(-1j*alpha)*np.cos(beta/2)**2 - (1j*np.cos(theta/2)*np.exp(-1j*theta/2)*np.sin(beta)*0.5) + 1j*np.sin(theta/2)*np.sin(beta/2)**2*np.exp(1j*theta/2)*np.exp(1j*alpha) \\\n",
    "                + np.cos(theta/2)*np.exp(1j*theta/2)*(np.cos(theta/2)*np.cos(beta/2)**2*np.exp(-1j*theta/2)-(1j*np.exp(-1j*alpha)*np.sin(beta)*0.5) - (0.5*np.sin(theta/2)*np.sin(beta)*np.exp(1j*theta/2)*np.exp(1j*alpha)))\\\n",
    "                - 1j*np.sin(theta/2)*np.exp(-1j*theta/2)*np.exp(-1j*alpha)*(np.sin(beta/2)**2*np.exp(-1j*alpha) + (0.5j*np.cos(theta/2)*np.sin(beta)*np.exp(-1j*theta/2)) + 1j*np.sin(theta/2)*np.cos(beta/2)**2*np.exp(1j*theta/2)*np.exp(1j*alpha))\n",
    "        return abs(r/2)**2 \n",
    "\n",
    "def cost(theta, alpha, beta, epsilon):\n",
    "        return 1 - epsilon - f(theta, alpha, beta)"
   ]
  },
  {
   "cell_type": "code",
   "execution_count": 38,
   "metadata": {},
   "outputs": [
    {
     "data": {
      "text/plain": [
       "0.6867982895270761"
      ]
     },
     "execution_count": 38,
     "metadata": {},
     "output_type": "execute_result"
    }
   ],
   "source": [
    "f(1, 1, 1)"
   ]
  },
  {
   "cell_type": "code",
   "execution_count": 112,
   "metadata": {},
   "outputs": [],
   "source": [
    "def minimize(cost, x0, alpha, beta, epsilon, conv_tol=1e-08, step_size=0.2, max_iterations=500, progress=False):\n",
    "    opt = qml.AdamOptimizer(stepsize=step_size)\n",
    "    #opt = qml.GradientDescentOptimizer(stepsize=step_size)\n",
    "    #opt = qml.QNGOptimizer(stepsize=step_size, approx=\"block-diag\")\n",
    "    theta = np.array(x0, requires_grad=True)\n",
    "    # store the values of the cost function\n",
    "    energy = [cost(theta, alpha, beta, epsilon)]\n",
    "    # store the values of the circuit parameter\n",
    "    params = [theta]\n",
    "\n",
    "    for n in range(max_iterations):\n",
    "        theta, prev_energy = opt.step_and_cost(cost, theta, alpha=alpha, beta=beta, epsilon=epsilon)\n",
    "        energy.append(cost(theta, alpha, beta, epsilon))\n",
    "        params.append(theta)\n",
    "\n",
    "        conv = np.abs(energy[-1] - prev_energy)\n",
    "        if progress:\n",
    "            print(f\"Step = {n},  Energy = {energy[-1]:.8f} Ha\")\n",
    "        if conv <= conv_tol:\n",
    "            break\n",
    "    status = f'finished in {n} iterations' \n",
    "    \n",
    "    return params, energy, status"
   ]
  },
  {
   "cell_type": "code",
   "execution_count": 113,
   "metadata": {},
   "outputs": [],
   "source": [
    "params, energy, status = minimize(cost, np.pi, 0.5, 1.9, 0.7)"
   ]
  },
  {
   "cell_type": "code",
   "execution_count": 114,
   "metadata": {},
   "outputs": [
    {
     "name": "stdout",
     "output_type": "stream",
     "text": [
      "0.8347076843874878\n",
      "-0.06527307439003349\n",
      "finished in 143 iterations\n"
     ]
    }
   ],
   "source": [
    "print(params[-1])\n",
    "print(energy[-1])\n",
    "print(status)"
   ]
  },
  {
   "cell_type": "code",
   "execution_count": 71,
   "metadata": {},
   "outputs": [],
   "source": [
    "\n",
    "def is_unsafe(alpha, beta, epsilon):\n",
    "    \"\"\"\n",
    "    Boolean function that we will use to know if a set of parameters is unsafe.\n",
    "\n",
    "    Args:\n",
    "        alpha (float): parameter used to encode the state.\n",
    "        beta (float): parameter used to encode the state.\n",
    "        epsilon (float): unsafe-tolerance.\n",
    "\n",
    "    Returns:\n",
    "        (bool): 'True' if alpha and beta are epsilon-unsafe coefficients. 'False' in the other case.\n",
    "\n",
    "    \"\"\"\n",
    "    from scipy.optimize import minimize\n",
    "    x0 = np.pi\n",
    "    #bnds = [0,2*np.pi]\n",
    "    res = minimize(cost, x0, args=(alpha,beta,epsilon), method='Nelder-Mead',tol=1e-6)\n",
    "    print(res.message)\n",
    "    print(res.fun)\n",
    "    print(res.x)\n",
    "    if res.fun < 0 and abs(res.fun)>0.02:\n",
    "        return True\n",
    "    else:\n",
    "        return False\n"
   ]
  },
  {
   "cell_type": "code",
   "execution_count": 108,
   "metadata": {},
   "outputs": [
    {
     "data": {
      "text/plain": [
       "-0.28925716090144493"
      ]
     },
     "execution_count": 108,
     "metadata": {},
     "output_type": "execute_result"
    }
   ],
   "source": [
    "cost(5.38198478, 0.1, 0.2, 0.3)"
   ]
  },
  {
   "cell_type": "code",
   "execution_count": 109,
   "metadata": {},
   "outputs": [
    {
     "data": {
      "text/plain": [
       "-0.2894230213018424"
      ]
     },
     "execution_count": 109,
     "metadata": {},
     "output_type": "execute_result"
    }
   ],
   "source": [
    "cost(7.10332537876704, 0.1, 0.2, 0.3)"
   ]
  },
  {
   "cell_type": "code",
   "execution_count": 72,
   "metadata": {},
   "outputs": [
    {
     "name": "stdout",
     "output_type": "stream",
     "text": [
      "Optimization terminated successfully.\n",
      "-0.2892571609014454\n",
      "[5.38198478]\n"
     ]
    },
    {
     "data": {
      "text/plain": [
       "True"
      ]
     },
     "execution_count": 72,
     "metadata": {},
     "output_type": "execute_result"
    }
   ],
   "source": [
    "is_unsafe(0.1, 0.2, 0.3)"
   ]
  },
  {
   "cell_type": "code",
   "execution_count": 73,
   "metadata": {},
   "outputs": [
    {
     "name": "stdout",
     "output_type": "stream",
     "text": [
      "Optimization terminated successfully.\n",
      "-0.0652730921542814\n",
      "[0.83440466]\n"
     ]
    },
    {
     "data": {
      "text/plain": [
       "True"
      ]
     },
     "execution_count": 73,
     "metadata": {},
     "output_type": "execute_result"
    }
   ],
   "source": [
    "is_unsafe(0.5, 1.9, 0.7)"
   ]
  },
  {
   "cell_type": "code",
   "execution_count": 74,
   "metadata": {},
   "outputs": [
    {
     "name": "stdout",
     "output_type": "stream",
     "text": [
      "Optimization terminated successfully.\n",
      "-0.013397098820838726\n",
      "[4.38120912]\n"
     ]
    },
    {
     "data": {
      "text/plain": [
       "False"
      ]
     },
     "execution_count": 74,
     "metadata": {},
     "output_type": "execute_result"
    }
   ],
   "source": [
    "is_unsafe(1.1, 1.2, 0.3)"
   ]
  }
 ],
 "metadata": {
  "kernelspec": {
   "display_name": "app_qc",
   "language": "python",
   "name": "python3"
  },
  "language_info": {
   "codemirror_mode": {
    "name": "ipython",
    "version": 3
   },
   "file_extension": ".py",
   "mimetype": "text/x-python",
   "name": "python",
   "nbconvert_exporter": "python",
   "pygments_lexer": "ipython3",
   "version": "3.10.4"
  },
  "orig_nbformat": 4,
  "vscode": {
   "interpreter": {
    "hash": "0e3523843f37ca99d0dcc63a69cb3738d5ce61a12c8d9fe46bc172358b7503f4"
   }
  }
 },
 "nbformat": 4,
 "nbformat_minor": 2
}
