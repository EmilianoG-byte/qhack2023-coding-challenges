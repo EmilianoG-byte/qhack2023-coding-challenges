{
 "cells": [
  {
   "cell_type": "code",
   "execution_count": 3,
   "metadata": {},
   "outputs": [],
   "source": [
    "import json\n",
    "import pennylane as qml\n",
    "import pennylane.numpy as np"
   ]
  },
  {
   "cell_type": "code",
   "execution_count": 80,
   "metadata": {},
   "outputs": [
    {
     "name": "stdout",
     "output_type": "stream",
     "text": [
      "Running test case 0 with input '[0.1,0.92]'...\n",
      "Correct!\n",
      "Running test case 1 with input '[0.2,0.83]'...\n",
      "Correct!\n"
     ]
    }
   ],
   "source": [
    "\n",
    "\n",
    "def half_life(gamma, p):\n",
    "    \"\"\"Calculates the relaxation half-life of a quantum system that exchanges energy with its environment.\n",
    "    This process is modeled via Generalized Amplitude Damping.\n",
    "\n",
    "    Args:\n",
    "        gamma (float): \n",
    "            The probability per unit time of the system losing a quantum of energy\n",
    "            to the environment.\n",
    "        p (float): The de-excitation probability due to environmental effect\n",
    "\n",
    "    Returns:\n",
    "        (float): The relaxation haf-life of the system, as explained in the problem statement.\n",
    "    \"\"\"\n",
    "\n",
    "    num_wires = 1\n",
    "\n",
    "    dev = qml.device(\"default.mixed\", wires=num_wires)\n",
    "\n",
    "\n",
    "    # Feel free to write helper functions or global variables here\n",
    "\n",
    "    @qml.qnode(dev)\n",
    "    def noise(\n",
    "        gamma,  # add optional parameters, delete if you don't need any\n",
    "    ):\n",
    "        \"\"\"Implement the sequence of Generalized Amplitude Damping channels in this QNode\n",
    "        You may pass instead of return if you solved this problem analytically, it's possible!\n",
    "\n",
    "        Args:\n",
    "            gamma (float): The probability per unit time of the system losing a quantum of energy\n",
    "            to the environment.\n",
    "        \n",
    "        Returns:\n",
    "            (float): The relaxation half-life.\n",
    "        \"\"\"\n",
    "        # Don't forget to initialize the state\n",
    "        # Put your code here #\n",
    "        # Return something or pass if you solved this analytically!\n",
    "        pass\n",
    "\n",
    "    # tune these parameters\n",
    "    delta = 0.005 # step size of troterization. i.e. N*delta = t\n",
    "    tolerance = 0.1e-3 # we want rz = 1/2 within this tolerance. i.e. |rz-1/2| > tolerance \n",
    "\n",
    "    # solve recursively thanks to Fiona\n",
    "    def f(rz):\n",
    "        i = 0\n",
    "        while(abs(rz-0.5)>tolerance):\n",
    "            rz = delta*gamma*(2*p-1) + rz*(1-delta*gamma) # analytical formula from Nielsen and Chuan GAD Channel\n",
    "            i += 1\n",
    "            if i == 3000: # max number of iterations\n",
    "                print('failed')\n",
    "                break\n",
    "        return i*delta\n",
    "\n",
    "    return f(0) # initial state: |+> -> rz = 0\n",
    "    # Write any subroutines you may need to find the relaxation time here\n",
    "\n",
    "    # Return the relaxation half-life\n",
    "\n",
    "\n",
    "# These functions are responsible for testing the solution.\n",
    "def run(test_case_input: str) -> str:\n",
    "\n",
    "    ins = json.loads(test_case_input)\n",
    "    output = half_life(*ins)\n",
    "\n",
    "    return str(output)\n",
    "\n",
    "def check(solution_output: str, expected_output: str) -> None:\n",
    "    solution_output = json.loads(solution_output)\n",
    "    expected_output = json.loads(expected_output)\n",
    "    assert np.allclose(\n",
    "        solution_output, expected_output, atol=2e-1\n",
    "    ), \"The relaxation half-life is not quite right.\"\n",
    "\n",
    "\n",
    "test_cases = [['[0.1,0.92]', '9.05'], ['[0.2,0.83]', '7.09']]\n",
    "\n",
    "for i, (input_, expected_output) in enumerate(test_cases):\n",
    "    print(f\"Running test case {i} with input '{input_}'...\")\n",
    "\n",
    "    try:\n",
    "        output = run(input_)\n",
    "\n",
    "    except Exception as exc:\n",
    "        print(f\"Runtime Error. {exc}\")\n",
    "\n",
    "    else:\n",
    "        if message := check(output, expected_output):\n",
    "            print(f\"Wrong Answer. Have: '{output}'. Want: '{expected_output}'.\")\n",
    "\n",
    "        else:\n",
    "            print(\"Correct!\")"
   ]
  },
  {
   "attachments": {},
   "cell_type": "markdown",
   "metadata": {},
   "source": [
    "----\n",
    "# <center> Tests"
   ]
  },
  {
   "cell_type": "code",
   "execution_count": 126,
   "metadata": {},
   "outputs": [
    {
     "data": {
      "text/plain": [
       "9.040000000000001"
      ]
     },
     "execution_count": 126,
     "metadata": {},
     "output_type": "execute_result"
    }
   ],
   "source": [
    "gamma = 0.1\n",
    "p = 0.92\n",
    "\n",
    "delta = 0.005\n",
    "tolerance = 0.1e-3\n",
    "\n",
    "def f(rz):\n",
    "    #print(rz)\n",
    "    i = 0\n",
    "    while(abs(rz-0.5)>tolerance):\n",
    "        rz = delta*gamma*(2*p-1) + rz*(1-delta*gamma)\n",
    "        i += 1\n",
    "        if i == 3000:\n",
    "            print('failed')\n",
    "            break\n",
    "    return i*delta\n",
    "    # if i==2000:\n",
    "    #     print('limi')\n",
    "    #     return i*delta\n",
    "    \n",
    "\n",
    "\n",
    "a = f(0)\n",
    "a\n",
    "\n"
   ]
  },
  {
   "cell_type": "code",
   "execution_count": 74,
   "metadata": {},
   "outputs": [
    {
     "name": "stdout",
     "output_type": "stream",
     "text": [
      "3000\n"
     ]
    }
   ],
   "source": [
    "import sys\n",
    "print(sys.getrecursionlimit())"
   ]
  }
 ],
 "metadata": {
  "kernelspec": {
   "display_name": "app_qc",
   "language": "python",
   "name": "python3"
  },
  "language_info": {
   "codemirror_mode": {
    "name": "ipython",
    "version": 3
   },
   "file_extension": ".py",
   "mimetype": "text/x-python",
   "name": "python",
   "nbconvert_exporter": "python",
   "pygments_lexer": "ipython3",
   "version": "3.10.4"
  },
  "orig_nbformat": 4,
  "vscode": {
   "interpreter": {
    "hash": "0e3523843f37ca99d0dcc63a69cb3738d5ce61a12c8d9fe46bc172358b7503f4"
   }
  }
 },
 "nbformat": 4,
 "nbformat_minor": 2
}
